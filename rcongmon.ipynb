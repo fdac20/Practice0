{
 "cells": [
  {
   "cell_type": "code",
   "execution_count": 1,
   "metadata": {},
   "outputs": [
    {
     "name": "stdout",
     "output_type": "stream",
     "text": [
      "IPython version:      %6.6s 7.17.0\n"
     ]
    }
   ],
   "source": [
    "import IPython\n",
    "import json\n",
    "# Numpy is a library for working with Arrays\n",
    "import numpy as np\n",
    "# SciPy implements many different numerical algorithms\n",
    "import scipy as sp\n",
    "# Pandas is good with data tables\n",
    "import pandas as pd\n",
    "# Module for plotting\n",
    "import matplotlib\n",
    "#BeautifulSoup parses HTML documents (once you get them via requests)\n",
    "import bs4\n",
    "# Nltk helps with some natural language tasks, like stemming\n",
    "import nltk\n",
    "# Bson is a binary format of json to be stored in databases\n",
    "import bson\n",
    "# Mongo is one of common nosql databases \n",
    "# it stores/searches json documents natively\n",
    "import pymongo\n",
    "print (\"IPython version:      %6.6s\", IPython.__version__)"
   ]
  },
  {
   "cell_type": "code",
   "execution_count": 2,
   "metadata": {},
   "outputs": [
    {
     "name": "stdout",
     "output_type": "stream",
     "text": [
      "Make a 2 row x 3 column array of random numbers\n",
      "[[0.35657976 0.56842876 0.70888426]\n",
      " [0.56147684 0.04038492 0.27796032]]\n",
      "Add 5 to every element\n",
      "[[5.35657976 5.56842876 5.70888426]\n",
      " [5.56147684 5.04038492 5.27796032]]\n",
      "Get the first row\n",
      "[5.35657976 5.56842876 5.70888426]\n"
     ]
    }
   ],
   "source": [
    "#Here is what numpy can do\\n\",\n",
    "print (\"Make a 2 row x 3 column array of random numbers\")\n",
    "x = np.random.random((2, 3))\n",
    "print (x)\n",
    "\n",
    "#array operation (as in R)\n",
    "print (\"Add 5 to every element\")\n",
    "x = x + 5\n",
    "print (x)\n",
    "\n",
    "# get a slice (first row) (as in R)\n",
    "print (\"Get the first row\")\n",
    "print (x[0, :])"
   ]
  },
  {
   "cell_type": "code",
   "execution_count": 3,
   "metadata": {},
   "outputs": [
    {
     "data": {
      "text/plain": [
       "<function ndarray.any>"
      ]
     },
     "execution_count": 3,
     "metadata": {},
     "output_type": "execute_result"
    }
   ],
   "source": [
    "# IPython is quite modern: just press <TAB> at the end of the unfinished statement to see the documentation\n",
    "#       on possible completions.\n",
    "#       In the code cell below, type x.<TAB>, to find built-in operations for x\n",
    "x.any"
   ]
  },
  {
   "cell_type": "code",
   "execution_count": 4,
   "metadata": {},
   "outputs": [
    {
     "data": {
      "image/png": "[encoded data removed]",
      "text/plain": [
       "<Figure size 432x288 with 1 Axes>"
      ]
     },
     "metadata": {
      "needs_background": "light"
     },
     "output_type": "display_data"
    }
   ],
   "source": [
    "%matplotlib inline \n",
    "import matplotlib.pyplot as plt\n",
    "heads = np.random.binomial(500, .5, size=500)\n",
    "histogram = plt.hist(heads, bins=10)"
   ]
  },
  {
   "cell_type": "markdown",
   "metadata": {
    "collapsed": true
   },
   "source": [
    "# Task 1\n",
    "## write a program to produce Fibonacci numbers up to 1000000"
   ]
  },
  {
   "cell_type": "code",
   "execution_count": 8,
   "metadata": {},
   "outputs": [
    {
     "name": "stdout",
     "output_type": "stream",
     "text": [
      "0\n",
      "1\n",
      "1\n",
      "2\n",
      "3\n",
      "5\n",
      "8\n",
      "13\n",
      "21\n",
      "34\n",
      "55\n",
      "89\n",
      "144\n",
      "233\n",
      "377\n",
      "610\n",
      "987\n",
      "1597\n",
      "2584\n",
      "4181\n",
      "6765\n",
      "10946\n",
      "17711\n",
      "28657\n",
      "46368\n",
      "75025\n",
      "121393\n",
      "196418\n",
      "317811\n",
      "514229\n",
      "832040\n",
      "1346269\n"
     ]
    }
   ],
   "source": [
    "firstNum = 0\n",
    "secondNum = 1\n",
    "currNum = 0\n",
    "print(firstNum)\n",
    "print(secondNum)\n",
    "\n",
    "while (currNum < 1000000):\n",
    "    currNum = firstNum + secondNum\n",
    "    print(currNum)\n",
    "    firstNum = secondNum\n",
    "    secondNum = currNum\n"
   ]
  },
  {
   "cell_type": "markdown",
   "metadata": {},
   "source": [
    "# Task 2\n",
    "## write a program to simulate 1000 tosses of a fair coin (use np.random.binomial)\n",
    "## Calculate the mean and standard deviation of that sample"
   ]
  },
  {
   "cell_type": "code",
   "execution_count": 12,
   "metadata": {},
   "outputs": [
    {
     "name": "stdout",
     "output_type": "stream",
     "text": [
      "Standard Deviation: 0.49963886958482323\n",
      "Mean: 0.481\n"
     ]
    }
   ],
   "source": [
    "n, p = 1, .5\n",
    "s = np.random.binomial(n, p, 1000)\n",
    "\n",
    "stdDev = np.std(s)\n",
    "mean = np.mean(s)\n",
    "\n",
    "print(\"Standard Deviation: {}\".format(stdDev))\n",
    "print(\"Mean: {}\".format(mean))"
   ]
  },
  {
   "cell_type": "markdown",
   "metadata": {},
   "source": [
    "# Task 3\n",
    "## Produce a scatterplot of y = 0.5*x+e where x has gaussian (0, 5) and e has gaussian (0, 1) distributions \n",
    "### use numpy.random.normal to generate gaussian distribution"
   ]
  },
  {
   "cell_type": "code",
   "execution_count": 27,
   "metadata": {},
   "outputs": [
    {
     "name": "stdout",
     "output_type": "stream",
     "text": [
      "[ -1.76089594  -4.80420674  -6.7731676    1.1000602   -2.35153268\n",
      "  -5.26266519  -6.10551199  -2.06847994   2.38863767  -9.27860411\n",
      "  -2.61118877   5.32564052  -3.44283197   4.63725001   3.49962298\n",
      "  -1.69881478   8.54290254   0.68910196   5.92094411   5.04588117\n",
      "   3.00733632  -9.5222252   -0.68693428  -1.70815839   1.21765726\n",
      "  -4.23906569 -10.37088163   5.92644046  -0.23874865  -3.1399236\n",
      "   6.69379002   5.49873423   1.90550015  -7.71227742  -5.66297212\n",
      "  -1.45995692   0.51622089   2.44270378   1.88992748  -5.0758514\n",
      "   1.06270027  -0.86147939   2.9761294   -5.1577015    2.95441223\n",
      "  11.52658351  -9.45080724  -6.99578192   7.30372625  -2.3231764\n",
      "   6.17761038   4.82181317  -2.73901027  -4.45422864   2.48546033\n",
      "  10.6670423   -7.67120583   4.60505127  -3.08215626  -6.24103796\n",
      "  -6.25743468   3.7700648  -10.14302928   5.9715375    7.46914448\n",
      "  -5.94558121   2.9723115   -0.59204815  -5.58824875  16.37496734\n",
      "  -1.17314856   3.04906019   0.24535396  -1.10937325  -3.73762075\n",
      "   3.04831315  -9.10587025   2.3366507   -5.45404026   2.11410606\n",
      "   5.05399723  -2.23118396  -2.05001794   2.53356232   1.4966459\n",
      "  -2.88181033  -1.35446839  -9.94089866 -14.05758112   4.05134498\n",
      "   2.14624957   7.80087619   1.38592063  -0.7541334    0.55526775\n",
      "   5.85715827   3.08183168   7.56594022   1.10030263  -1.68499119]\n",
      "[-3.07052384e+00  2.10016799e+00 -5.33819789e+00  5.21450890e+00\n",
      " -1.45888207e-01  4.44218238e+00 -3.97613415e+00 -5.25056798e+00\n",
      "  3.53835731e+00 -1.25915722e+00 -2.18740329e-02  1.51753765e+00\n",
      "  8.27385633e+00  3.12209433e+00  4.33422342e-01 -2.61382728e+00\n",
      " -1.48305046e+00 -4.37691447e+00  1.91494390e+00  5.98301810e-01\n",
      "  7.36165565e-01  2.55338574e+00 -6.05469514e+00 -5.03500642e+00\n",
      " -4.07807078e+00  7.51961424e+00  1.14415794e-02 -4.36143102e+00\n",
      " -3.71671020e+00  8.47084912e+00  8.81265175e+00  3.01597304e+00\n",
      " -4.44000127e-01 -5.77405704e+00  6.51505426e+00  3.92834975e-01\n",
      " -6.86333558e+00  3.67675575e+00  4.60308366e+00  1.84420997e+00\n",
      " -8.35329857e+00  1.74745282e+00  3.76075535e+00 -1.51352229e+00\n",
      "  1.81387447e+00 -5.73133270e-01  3.67130679e+00  3.46507908e-01\n",
      " -5.82209322e-01  3.19598879e+00  5.09489942e+00  8.67433316e-01\n",
      " -5.33048740e+00  1.59606443e+00 -2.43638920e+00 -4.62211312e+00\n",
      " -6.01860804e-01 -9.66028742e-01 -9.65038292e-01  3.34059216e+00\n",
      " -2.29519401e+00 -6.26087575e+00  1.33968485e+00  2.25197772e+00\n",
      "  6.28439456e-01 -3.39918161e+00 -2.53336641e+00  7.83539431e+00\n",
      "  4.63544070e+00  9.28958524e+00 -5.86102671e-02  2.30189812e+00\n",
      " -2.47884244e+00 -3.43262561e+00 -6.79866267e+00  6.53666500e+00\n",
      " -7.78403761e+00  1.30128956e+01  4.22988432e+00 -8.17070611e-01\n",
      "  7.92903788e+00  4.16084427e+00  4.10915861e+00  1.32404788e+00\n",
      " -1.09726904e-01  1.26990115e+01  4.90809885e+00 -5.26194616e-01\n",
      " -2.51038396e+00  3.07453580e+00  2.06142643e+00 -6.68464705e+00\n",
      "  7.55311120e+00  6.43276753e+00 -1.32137651e+01 -1.20345000e+01\n",
      " -3.76289936e+00 -5.45697974e+00  5.14333924e+00 -4.47412920e-01]\n",
      "[ -3.95097181  -0.30193538  -8.72478169   5.764539    -1.32165455\n",
      "   1.81084978  -7.02889015  -6.28480795   4.73267615  -5.89845927\n",
      "  -1.32746842   4.18035791   6.55244035   5.44071933   2.18323383\n",
      "  -3.46323468   2.78840081  -4.03236348   4.87541596   3.12124239\n",
      "   2.23983372  -2.20772686  -6.39816228  -5.88908561  -3.46924215\n",
      "   5.4000814   -5.17399924  -1.39821079  -3.83608452   6.90088731\n",
      "  12.15954676   5.76534015   0.50874995  -9.63019575   3.6835682\n",
      "  -0.33714348  -6.60522514   4.89810764   5.5480474   -0.69371573\n",
      "  -7.82194844   1.31671312   5.24882004  -4.09237304   3.29108059\n",
      "   5.19015849  -1.05409683  -3.15138305   3.0696538    2.03440059\n",
      "   8.18370461   3.2783399   -6.69999254  -0.63104989  -1.19365904\n",
      "   0.71140803  -4.43746372   1.33649689  -2.50611642   0.22007318\n",
      "  -5.42391135  -4.37584334  -3.73182979   5.23774647   4.3630117\n",
      "  -6.37197222  -1.04721066   7.53937023   1.84131633  17.47706891\n",
      "  -0.64518455   3.82642821  -2.35616546  -3.98731223  -8.66747304\n",
      "   8.06082158 -12.33697273  14.18122099   1.50286419   0.23998242\n",
      "  10.45603649   3.04525229   3.08414964   2.59082904   0.63859605\n",
      "  11.25810637   4.23086466  -5.49664395  -9.53917452   5.10020829\n",
      "   3.13455121  -2.78420896   8.24607151   6.05570083 -12.93613126\n",
      "  -9.10592091  -2.22198352  -1.67400963   5.69349055  -1.28990851]\n"
     ]
    },
    {
     "data": {
      "image/png": "[encoded data removed]",
      "text/plain": [
       "<Figure size 432x288 with 1 Axes>"
      ]
     },
     "metadata": {
      "needs_background": "light"
     },
     "output_type": "display_data"
    }
   ],
   "source": [
    "\n",
    "mu, sigma = 0, 5\n",
    "x = np.random.normal(mu, sigma, 100)\n",
    "mu, signma = 0, 1\n",
    "e = np.random.normal(mu, sigma, 100)\n",
    "y = np.add(np.multiply(0.5, x), e)\n",
    "plt.scatter(x, y)\n",
    "plt.xlabel('x')\n",
    "plt.ylabel('y')\n",
    "plt.show()"
   ]
  },
  {
   "cell_type": "code",
   "execution_count": null,
   "metadata": {},
   "outputs": [],
   "source": []
  }
 ],
 "metadata": {
  "kernelspec": {
   "display_name": "Python 3",
   "language": "python",
   "name": "python3"
  },
  "language_info": {
   "codemirror_mode": {
    "name": "ipython",
    "version": 3
   },
   "file_extension": ".py",
   "mimetype": "text/x-python",
   "name": "python",
   "nbconvert_exporter": "python",
   "pygments_lexer": "ipython3",
   "version": "3.8.2"
  }
 },
 "nbformat": 4,
 "nbformat_minor": 1
}
