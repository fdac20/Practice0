{
 "cells": [
  {
   "cell_type": "code",
   "execution_count": 1,
   "metadata": {},
   "outputs": [
    {
     "name": "stdout",
     "output_type": "stream",
     "text": [
      "IPython version:      %6.6s 7.17.0\n"
     ]
    }
   ],
   "source": [
    "import IPython\n",
    "import json\n",
    "# Numpy is a library for working with Arrays\n",
    "import numpy as np\n",
    "# SciPy implements many different numerical algorithms\n",
    "import scipy as sp\n",
    "# Pandas is good with data tables\n",
    "import pandas as pd\n",
    "# Module for plotting\n",
    "import matplotlib\n",
    "#BeautifulSoup parses HTML documents (once you get them via requests)\n",
    "import bs4\n",
    "# Nltk helps with some natural language tasks, like stemming\n",
    "import nltk\n",
    "# Bson is a binary format of json to be stored in databases\n",
    "import bson\n",
    "# Mongo is one of common nosql databases \n",
    "# it stores/searches json documents natively\n",
    "import pymongo\n",
    "print (\"IPython version:      %6.6s\", IPython.__version__)"
   ]
  },
  {
   "cell_type": "code",
   "execution_count": 2,
   "metadata": {},
   "outputs": [
    {
     "name": "stdout",
     "output_type": "stream",
     "text": [
      "Make a 2 row x 3 column array of random numbers\n",
      "[[0.09068815 0.93742774 0.42100868]\n",
      " [0.06727767 0.46956111 0.92254525]]\n",
      "Add 5 to every element\n",
      "[[5.09068815 5.93742774 5.42100868]\n",
      " [5.06727767 5.46956111 5.92254525]]\n",
      "Get the first row\n",
      "[5.09068815 5.93742774 5.42100868]\n"
     ]
    }
   ],
   "source": [
    "#Here is what numpy can do\\n\",\n",
    "print (\"Make a 2 row x 3 column array of random numbers\")\n",
    "x = np.random.random((2, 3))\n",
    "print (x)\n",
    "\n",
    "#array operation (as in R)\n",
    "print (\"Add 5 to every element\")\n",
    "x = x + 5\n",
    "print (x)\n",
    "\n",
    "# get a slice (first row) (as in R)\n",
    "print (\"Get the first row\")\n",
    "print (x[0, :])"
   ]
  },
  {
   "cell_type": "code",
   "execution_count": 4,
   "metadata": {},
   "outputs": [
    {
     "data": {
      "image/png": "[encoded data removed]",
      "text/plain": [
       "<matplotlib.figure.Figure at 0x7f8a2433ca20>"
      ]
     },
     "metadata": {},
     "output_type": "display_data"
    }
   ],
   "source": [
    "%matplotlib inline \n",
    "import matplotlib.pyplot as plt\n",
    "heads = np.random.binomial(500, .5, size=500)\n",
    "histogram = plt.hist(heads, bins=10)"
   ]
  },
  {
   "cell_type": "markdown",
   "metadata": {
    "collapsed": true
   },
   "source": [
    "# Task 1\n",
    "## write a program to produce Fibonacci numbers up to 1000000"
   ]
  },
  {
   "cell_type": "code",
   "execution_count": 10,
   "metadata": {},
   "outputs": [
    {
     "name": "stdout",
     "output_type": "stream",
     "text": [
      "f0 = 0\n",
      "f1 = 1\n",
      "f2 = 1 \n",
      "f3 = 2 \n",
      "f4 = 3 \n",
      "f5 = 5 \n",
      "f6 = 8 \n",
      "f7 = 13 \n",
      "f8 = 21 \n",
      "f9 = 34 \n",
      "f10 = 55 \n",
      "f11 = 89 \n",
      "f12 = 144 \n",
      "f13 = 233 \n",
      "f14 = 377 \n",
      "f15 = 610 \n",
      "f16 = 987 \n",
      "f17 = 1597 \n",
      "f18 = 2584 \n",
      "f19 = 4181 \n",
      "f20 = 6765 \n",
      "f21 = 10946 \n",
      "f22 = 17711 \n",
      "f23 = 28657 \n",
      "f24 = 46368 \n",
      "f25 = 75025 \n",
      "f26 = 121393 \n",
      "f27 = 196418 \n",
      "f28 = 317811 \n",
      "f29 = 514229 \n",
      "f30 = 832040 \n"
     ]
    }
   ],
   "source": [
    "# This program prints all Fibonacci numbers sequentially\n",
    "# that are less than or equal to 1000000\n",
    "\n",
    "fn = 0\n",
    "fn_1 = 1\n",
    "print( \"f0 =\", fn )\n",
    "print( \"f1 =\", fn_1 )\n",
    "\n",
    "n = 2\n",
    "fn_2 = fn + fn_1\n",
    "while fn_2 <= 1000000:\n",
    "    print( \"f{0} = {1} \".format( n, fn_2 ) )\n",
    "    n += 1\n",
    "    fn = fn_1\n",
    "    fn_1 = fn_2\n",
    "    fn_2 = fn + fn_1\n",
    "\n"
   ]
  },
  {
   "cell_type": "markdown",
   "metadata": {},
   "source": [
    "# Task 2\n",
    "## write a program to simulate 1000 tosses of a fair coin (use np.random.binomial)\n",
    "## Calculate the mean and standard deviation of that sample"
   ]
  },
  {
   "cell_type": "code",
   "execution_count": 32,
   "metadata": {},
   "outputs": [
    {
     "name": "stdout",
     "output_type": "stream",
     "text": [
      "Successful tosses: 490\n",
      "Mean: 0.49\n",
      "Standard Deviation: 0.4999\n"
     ]
    }
   ],
   "source": [
    "num_tosses = 1000\n",
    "tosses = []\n",
    "\n",
    "# begin num_tosses simulated tosses\n",
    "for i in range( 0, num_tosses ):\n",
    "    toss = np.random.binomial( 1, .5 )\n",
    "    tosses.append( toss )\n",
    "print( \"Successful tosses: {0}\".format( sum(tosses) ))\n",
    "\n",
    "# calculate mean\n",
    "m = np.mean( tosses )\n",
    "print( \"Mean: {0:.5g}\".format( m ) )\n",
    "\n",
    "# calculate standard deviation\n",
    "std = np.std( tosses )\n",
    "print( \"Standard Deviation: {0:.5g}\".format( std ) )"
   ]
  },
  {
   "cell_type": "markdown",
   "metadata": {},
   "source": [
    "# Task 3\n",
    "## Produce a scatterplot of y = 0.5*x+e where x has gaussian (0, 5) and e has gaussian (0, 1) distributions \n",
    "### use numpy.random.normal to generate gaussian distribution"
   ]
  },
  {
   "cell_type": "code",
   "execution_count": 47,
   "metadata": {},
   "outputs": [
    {
     "data": {
      "text/plain": [
       "[]"
      ]
     },
     "execution_count": 47,
     "metadata": {},
     "output_type": "execute_result"
    },
    {
     "data": {
      "image/png": "[encoded data removed]",
      "text/plain": [
       "<Figure size 432x288 with 1 Axes>"
      ]
     },
     "metadata": {
      "needs_background": "light"
     },
     "output_type": "display_data"
    }
   ],
   "source": [
    "import matplotlib.pyplot as plt\n",
    "num_pts = 1000\n",
    "\n",
    "x = np.random.normal( 0, 5, num_pts)\n",
    "e = np.random.normal( 0, 1, num_pts)\n",
    "\n",
    "y = .5*x + e\n",
    "\n",
    "plt.scatter( x, y, s=3 )\n",
    "plt.plot()\n",
    "\n"
   ]
  }
 ],
 "metadata": {
  "kernelspec": {
   "display_name": "Python 3",
   "language": "python",
   "name": "python3"
  },
  "language_info": {
   "codemirror_mode": {
    "name": "ipython",
    "version": 3
   },
   "file_extension": ".py",
   "mimetype": "text/x-python",
   "name": "python",
   "nbconvert_exporter": "python",
   "pygments_lexer": "ipython3",
   "version": "3.8.2"
  }
 },
 "nbformat": 4,
 "nbformat_minor": 1
}
