{
 "cells": [
  {
   "cell_type": "code",
   "execution_count": 3,
   "metadata": {},
   "outputs": [
    {
     "name": "stdout",
     "output_type": "stream",
     "text": [
      "IPython version:      %6.6s 7.17.0\n"
     ]
    }
   ],
   "source": [
    "import IPython\n",
    "import json\n",
    "# Numpy is a library for working with Arrays\n",
    "import numpy as np\n",
    "# SciPy implements many different numerical algorithms\n",
    "import scipy as sp\n",
    "# Pandas is good with data tables\n",
    "import pandas as pd\n",
    "# Module for plotting\n",
    "import matplotlib\n",
    "#BeautifulSoup parses HTML documents (once you get them via requests)\n",
    "import bs4\n",
    "# Nltk helps with some natural language tasks, like stemming\n",
    "import nltk\n",
    "# Bson is a binary format of json to be stored in databases\n",
    "import bson\n",
    "# Mongo is one of common nosql databases \n",
    "# it stores/searches json documents natively\n",
    "import pymongo\n",
    "print (\"IPython version:      %6.6s\", IPython.__version__)"
   ]
  },
  {
   "cell_type": "code",
   "execution_count": 4,
   "metadata": {},
   "outputs": [
    {
     "name": "stdout",
     "output_type": "stream",
     "text": [
      "Make a 2 row x 3 column array of random numbers\n",
      "[[0.4898745  0.50061235 0.82985456]\n",
      " [0.98689028 0.79262009 0.6543945 ]]\n",
      "Add 5 to every element\n",
      "[[5.4898745  5.50061235 5.82985456]\n",
      " [5.98689028 5.79262009 5.6543945 ]]\n",
      "Get the first row\n",
      "[5.4898745  5.50061235 5.82985456]\n"
     ]
    }
   ],
   "source": [
    "#Here is what numpy can do\\n\",\n",
    "print (\"Make a 2 row x 3 column array of random numbers\")\n",
    "x = np.random.random((2, 3))\n",
    "print (x)\n",
    "\n",
    "#array operation (as in R)\n",
    "print (\"Add 5 to every element\")\n",
    "x = x + 5\n",
    "print (x)\n",
    "\n",
    "# get a slice (first row) (as in R)\n",
    "print (\"Get the first row\")\n",
    "print (x[0, :])"
   ]
  },
  {
   "cell_type": "code",
   "execution_count": 5,
   "metadata": {},
   "outputs": [
    {
     "data": {
      "text/plain": [
       "<function ndarray.any>"
      ]
     },
     "execution_count": 5,
     "metadata": {},
     "output_type": "execute_result"
    }
   ],
   "source": [
    "# IPython is quite modern: just press <TAB> at the end of the unfinished statement to see the documentation\n",
    "#       on possible completions.\n",
    "#       In the code cell below, type x.<TAB>, to find built-in operations for x\n",
    "x.any"
   ]
  },
  {
   "cell_type": "code",
   "execution_count": 6,
   "metadata": {},
   "outputs": [
    {
     "data": {
      "image/png": "[encoded data removed]",
      "text/plain": [
       "<Figure size 432x288 with 1 Axes>"
      ]
     },
     "metadata": {
      "needs_background": "light"
     },
     "output_type": "display_data"
    }
   ],
   "source": [
    "%matplotlib inline \n",
    "import matplotlib.pyplot as plt\n",
    "heads = np.random.binomial(500, .5, size=500)\n",
    "histogram = plt.hist(heads, bins=10)"
   ]
  },
  {
   "cell_type": "markdown",
   "metadata": {
    "collapsed": true
   },
   "source": [
    "# Task 1\n",
    "## write a program to produce Fibonacci numbers up to 1000000"
   ]
  },
  {
   "cell_type": "code",
   "execution_count": 84,
   "metadata": {
    "scrolled": false
   },
   "outputs": [
    {
     "name": "stdout",
     "output_type": "stream",
     "text": [
      "0\n",
      "1\n",
      "1\n",
      "2\n",
      "3\n",
      "5\n",
      "8\n",
      "13\n",
      "21\n",
      "34\n",
      "55\n",
      "89\n",
      "144\n",
      "233\n",
      "377\n",
      "610\n",
      "987\n",
      "1597\n",
      "2584\n",
      "4181\n",
      "6765\n",
      "10946\n",
      "17711\n",
      "28657\n",
      "46368\n",
      "75025\n",
      "121393\n",
      "196418\n",
      "317811\n",
      "514229\n",
      "832040\n"
     ]
    }
   ],
   "source": [
    "low = 0\n",
    "high = 1\n",
    "print(0)\n",
    "print(1)\n",
    "i = 0\n",
    "while i < 1000000:\n",
    "    i = high + low\n",
    "    if(i < 1000000):\n",
    "        print(i)\n",
    "    low = high\n",
    "    high = i\n",
    "    "
   ]
  },
  {
   "cell_type": "markdown",
   "metadata": {},
   "source": [
    "# Task 2\n",
    "## write a program to simulate 1000 tosses of a fair coin (use np.random.binomial)\n",
    "## Calculate the mean and standard deviation of that sample"
   ]
  },
  {
   "cell_type": "code",
   "execution_count": 83,
   "metadata": {},
   "outputs": [
    {
     "name": "stdout",
     "output_type": "stream",
     "text": [
      "0.492\n",
      "0.49993599590347565\n"
     ]
    }
   ],
   "source": [
    "heads = np.random.binomial(1, .5, size=1000)\n",
    "sum = 0\n",
    "mean = np.mean(heads)\n",
    "print(mean)\n",
    "stdev = np.std(heads)\n",
    "print(stdev)\n",
    "\n",
    "    "
   ]
  },
  {
   "cell_type": "markdown",
   "metadata": {},
   "source": [
    "# Task 3\n",
    "## Produce a scatterplot of y = 0.5*x+e where x has gaussian (0, 5) and e has gaussian (0, 1) distributions \n",
    "### use numpy.random.normal to generate gaussian distribution"
   ]
  },
  {
   "cell_type": "code",
   "execution_count": 82,
   "metadata": {},
   "outputs": [
    {
     "data": {
      "image/png": "[encoded data removed]",
      "text/plain": [
       "<Figure size 432x288 with 1 Axes>"
      ]
     },
     "metadata": {
      "needs_background": "light"
     },
     "output_type": "display_data"
    }
   ],
   "source": [
    "%matplotlib inline \n",
    "import matplotlib.pyplot as plt\n",
    "x = np.random.normal(loc=2.5, scale=.75, size=100)\n",
    "e = np.random.normal(loc=.5, scale=.1, size=100)\n",
    "y = []\n",
    "for i in range(0, 100):\n",
    "    y.append(x[i]*.5 + e[i])\n",
    "scatter = plt.scatter(x, y)"
   ]
  },
  {
   "cell_type": "code",
   "execution_count": null,
   "metadata": {},
   "outputs": [],
   "source": []
  },
  {
   "cell_type": "code",
   "execution_count": null,
   "metadata": {},
   "outputs": [],
   "source": []
  },
  {
   "cell_type": "code",
   "execution_count": null,
   "metadata": {},
   "outputs": [],
   "source": []
  }
 ],
 "metadata": {
  "kernelspec": {
   "display_name": "Python 3",
   "language": "python",
   "name": "python3"
  },
  "language_info": {
   "codemirror_mode": {
    "name": "ipython",
    "version": 3
   },
   "file_extension": ".py",
   "mimetype": "text/x-python",
   "name": "python",
   "nbconvert_exporter": "python",
   "pygments_lexer": "ipython3",
   "version": "3.8.2"
  }
 },
 "nbformat": 4,
 "nbformat_minor": 1
}
