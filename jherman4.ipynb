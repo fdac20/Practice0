{
 "cells": [
  {
   "cell_type": "code",
   "execution_count": 1,
   "metadata": {},
   "outputs": [
    {
     "name": "stdout",
     "output_type": "stream",
     "text": [
      "IPython version:      %6.6s 6.1.0\n"
     ]
    }
   ],
   "source": [
    "import IPython\n",
    "import json\n",
    "# Numpy is a library for working with Arrays\n",
    "import numpy as np\n",
    "# SciPy implements many different numerical algorithms\n",
    "import scipy as sp\n",
    "# Pandas is good with data tables\n",
    "import pandas as pd\n",
    "# Module for plotting\n",
    "import matplotlib\n",
    "#BeautifulSoup parses HTML documents (once you get them via requests)\n",
    "import bs4\n",
    "# Nltk helps with some natural language tasks, like stemming\n",
    "import nltk\n",
    "# Bson is a binary format of json to be stored in databases\n",
    "import bson\n",
    "# Mongo is one of common nosql databases \n",
    "# it stores/searches json documents natively\n",
    "import pymongo\n",
    "print (\"IPython version:      %6.6s\", IPython.__version__)"
   ]
  },
  {
   "cell_type": "code",
   "execution_count": 2,
   "metadata": {},
   "outputs": [
    {
     "name": "stdout",
     "output_type": "stream",
     "text": [
      "Make a 2 row x 3 column array of random numbers\n",
      "[[ 0.20354485  0.87353642  0.79226415]\n",
      " [ 0.26457656  0.23486214  0.8240387 ]]\n",
      "Add 5 to every element\n",
      "[[ 5.20354485  5.87353642  5.79226415]\n",
      " [ 5.26457656  5.23486214  5.8240387 ]]\n",
      "Get the first row\n",
      "[ 5.20354485  5.87353642  5.79226415]\n"
     ]
    }
   ],
   "source": [
    "#Here is what numpy can do\\n\",\n",
    "print (\"Make a 2 row x 3 column array of random numbers\")\n",
    "x = np.random.random((2, 3))\n",
    "print (x)\n",
    "\n",
    "#array operation (as in R)\n",
    "print (\"Add 5 to every element\")\n",
    "x = x + 5\n",
    "print (x)\n",
    "\n",
    "# get a slice (first row) (as in R)\n",
    "print (\"Get the first row\")\n",
    "print (x[0, :])"
   ]
  },
  {
   "cell_type": "code",
   "execution_count": 3,
   "metadata": {},
   "outputs": [
    {
     "data": {
      "text/plain": [
       "<function ndarray.any>"
      ]
     },
     "execution_count": 3,
     "metadata": {},
     "output_type": "execute_result"
    }
   ],
   "source": [
    "# IPython is quite modern: just press <TAB> at the end of the unfinished statement to see the documentation\n",
    "#       on possible completions.\n",
    "#       In the code cell below, type x.<TAB>, to find built-in operations for x\n",
    "x.any"
   ]
  },
  {
   "cell_type": "code",
   "execution_count": 4,
   "metadata": {},
   "outputs": [
    {
     "data": {
      "image/png": "[encoded data removed]",
      "text/plain": [
       "<matplotlib.figure.Figure at 0x7f8a2433ca20>"
      ]
     },
     "metadata": {},
     "output_type": "display_data"
    }
   ],
   "source": [
    "%matplotlib inline \n",
    "import matplotlib.pyplot as plt\n",
    "heads = np.random.binomial(500, .5, size=500)\n",
    "histogram = plt.hist(heads, bins=10)"
   ]
  },
  {
   "cell_type": "markdown",
   "metadata": {
    "collapsed": true
   },
   "source": [
    "# Task 1\n",
    "## write a program to produce Fibonacci numbers up to 1000000"
   ]
  },
  {
   "cell_type": "code",
   "execution_count": 22,
   "metadata": {},
   "outputs": [
    {
     "name": "stdout",
     "output_type": "stream",
     "text": [
      "0\n",
      "1\n",
      "1\n",
      "2\n",
      "3\n",
      "5\n",
      "8\n",
      "13\n",
      "21\n",
      "34\n",
      "55\n",
      "89\n",
      "144\n",
      "233\n",
      "377\n",
      "610\n",
      "987\n",
      "1597\n",
      "2584\n",
      "4181\n",
      "6765\n",
      "10946\n",
      "17711\n",
      "28657\n",
      "46368\n",
      "75025\n",
      "121393\n",
      "196418\n",
      "317811\n",
      "514229\n",
      "832040\n"
     ]
    }
   ],
   "source": [
    "# function for calculating fibonnaci\n",
    "def fib_gen(num):\n",
    "    if num == 0:\n",
    "        return 0\n",
    "    if num == 1:\n",
    "        return 1\n",
    "    else:\n",
    "        return fib_gen(num-1) + fib_gen(num-2)\n",
    "\n",
    "index = 0\n",
    "cur_num = 0\n",
    "max_num = 1000000\n",
    "\n",
    "# continue while the value is less than the max given. Print out whatever fib_gen returns\n",
    "while True:\n",
    "    cur_num = fib_gen(index)\n",
    "    if cur_num >= max_num:\n",
    "        break\n",
    "    print(cur_num)\n",
    "    index += 1\n",
    "    "
   ]
  },
  {
   "cell_type": "markdown",
   "metadata": {},
   "source": [
    "# Task 2\n",
    "## write a program to simulate 1000 tosses of a fair coin (use np.random.binomial)\n",
    "## Calculate the mean and standard deviation of that sample"
   ]
  },
  {
   "cell_type": "code",
   "execution_count": 21,
   "metadata": {},
   "outputs": [
    {
     "name": "stdout",
     "output_type": "stream",
     "text": [
      "[1 1 0 0 0 1 1 1 0 1 1 1 1 0 1 1 1 0 0 0 1 0 1 0 1 0 0 0 1 0 1 1 1 1 1 0 0\n",
      " 1 1 1 0 0 1 0 0 1 1 1 1 1 0 1 1 0 0 1 0 0 0 0 1 1 0 0 0 0 0 1 0 1 1 0 1 1\n",
      " 1 1 0 0 1 1 0 1 1 0 1 0 0 0 0 1 1 0 1 1 1 0 1 1 0 1 1 1 1 0 1 0 0 1 0 1 1\n",
      " 0 0 1 0 1 0 0 1 0 1 0 0 1 0 0 0 1 1 0 0 1 0 0 0 1 1 0 0 1 0 1 1 1 1 0 1 0\n",
      " 1 1 0 0 0 0 1 0 0 0 1 1 0 0 1 0 1 0 0 0 1 1 1 0 1 1 1 1 1 1 0 1 1 1 1 0 0\n",
      " 1 1 1 0 1 1 1 1 1 0 1 1 1 0 0 0 0 0 1 0 0 0 1 1 1 1 1 1 1 1 0 0 1 0 0 0 0\n",
      " 0 0 0 0 0 1 1 0 1 0 1 1 1 0 0 1 0 1 0 1 0 1 1 0 1 0 1 0 0 0 1 0 1 0 1 1 0\n",
      " 1 1 0 1 1 1 1 1 0 0 1 1 0 0 1 1 0 0 1 0 1 0 1 0 0 1 0 1 0 1 1 0 1 1 1 1 0\n",
      " 1 1 0 0 0 1 1 1 1 1 0 0 0 1 1 1 0 1 1 1 0 0 0 1 1 1 1 0 0 0 1 0 1 0 1 0 1\n",
      " 0 0 0 1 1 0 1 1 0 1 0 1 1 0 0 0 0 0 1 0 0 1 0 1 0 0 0 0 0 0 0 1 1 1 0 0 0\n",
      " 0 0 0 1 1 0 0 0 0 1 1 0 1 0 0 1 0 1 1 0 1 0 0 1 0 1 1 0 0 0 0 0 0 0 0 1 1\n",
      " 0 0 0 0 0 0 0 0 1 1 1 0 0 0 0 0 0 0 1 1 0 0 0 1 0 0 0 1 1 0 0 0 1 0 1 0 1\n",
      " 1 0 1 1 0 1 1 1 1 0 1 1 0 1 0 1 1 0 1 0 1 0 1 0 1 1 1 1 0 1 0 1 0 1 1 0 1\n",
      " 0 0 0 1 1 1 0 1 1 0 0 0 1 0 0 1 0 1 0 0 0 0 0 1 1 0 0 0 1 1 0 1 0 0 1 0 1\n",
      " 1 1 0 0 0 1 0 1 1 0 0 0 1 1 1 1 1 1 0 0 1 0 0 1 1 1 1 1 0 0 0 0 0 1 1 0 1\n",
      " 1 0 1 0 1 1 0 0 0 1 1 1 0 0 1 1 1 1 1 1 0 0 1 0 1 0 1 1 0 1 1 1 0 0 1 0 0\n",
      " 1 0 0 0 0 1 1 1 1 1 0 1 0 1 0 0 0 0 1 1 1 1 0 1 0 0 0 1 1 0 1 1 0 1 1 0 0\n",
      " 0 1 0 1 1 0 1 0 1 1 0 1 1 1 1 1 1 1 0 1 0 1 1 1 1 1 0 0 0 1 1 0 0 1 1 0 1\n",
      " 1 1 1 0 1 0 0 1 0 1 1 0 1 0 0 0 1 1 0 0 1 0 0 1 1 1 0 1 0 1 0 1 1 0 0 1 0\n",
      " 0 0 0 1 1 1 1 0 1 1 0 1 1 1 0 1 1 0 0 1 1 0 1 1 0 0 1 1 1 0 0 0 1 1 0 0 1\n",
      " 0 1 1 0 0 0 1 1 1 1 0 1 1 1 0 1 1 0 1 1 1 1 1 1 1 1 1 1 1 1 0 1 0 1 0 1 1\n",
      " 0 1 1 1 0 1 0 1 1 1 0 0 1 0 0 1 1 1 0 1 1 0 0 1 0 1 0 0 0 1 0 1 1 0 1 0 1\n",
      " 1 1 1 1 0 0 1 1 0 0 1 0 0 0 0 0 0 0 0 0 1 0 1 1 1 0 0 1 0 1 1 1 1 0 1 0 1\n",
      " 0 0 1 1 1 1 1 1 1 0 0 1 0 0 0 1 0 1 0 0 0 1 0 0 1 1 0 0 0 0 1 0 1 0 0 1 1\n",
      " 0 0 0 1 1 1 1 0 1 0 0 1 0 0 0 0 1 0 1 1 0 0 0 1 1 0 0 1 0 1 1 1 1 0 0 1 0\n",
      " 1 0 1 1 0 1 0 0 1 0 1 1 0 0 1 0 1 0 1 1 1 0 1 0 1 0 1 1 0 1 1 1 1 1 1 1 1\n",
      " 1 1 0 0 0 0 0 0 0 0 1 0 0 1 0 0 0 0 1 0 1 0 1 0 0 0 1 1 0 0 0 0 0 0 0 1 0\n",
      " 1]\n",
      "Mean:  0.514\n",
      "SD:  0.4998039615689336\n"
     ]
    }
   ],
   "source": [
    "import numpy as np\n",
    "n = 1\n",
    "p = .5\n",
    "count = 1000\n",
    "\n",
    "# basically use numpy for everything, because why not\n",
    "tosses = np.random.binomial(n, p, count)\n",
    "print(tosses)\n",
    "print(\"Mean: \", np.mean(tosses))\n",
    "print(\"SD: \", np.std(tosses))"
   ]
  },
  {
   "cell_type": "markdown",
   "metadata": {},
   "source": [
    "# Task 3\n",
    "## Produce a scatterplot of y = 0.5*x+e where x has gaussian (0, 5) and e has gaussian (0, 1) distributions \n",
    "### use numpy.random.normal to generate gaussian distribution"
   ]
  },
  {
   "cell_type": "code",
   "execution_count": 20,
   "metadata": {},
   "outputs": [
    {
     "name": "stdout",
     "output_type": "stream",
     "text": [
      "[-0.24081535  2.57473613  1.89057594 -0.17575142 -4.90387927 -0.15397814\n",
      " -0.39975303 -3.69923505  0.18620695  1.25584608 -2.42601577  1.15834123\n",
      " -3.96568986 -1.51033762  2.73593512  2.25663595 -0.39708848  2.16000554\n",
      " -0.85579351 -5.77399792  1.17225303 -0.01772693  3.56276934  1.28815003\n",
      "  6.03870132  2.0418233  -2.78304506  0.56210803 -1.93517357  1.1270212\n",
      " -3.27818169 -0.13784923 -2.45397817  0.42911036 -0.38714314 -0.94633451\n",
      "  0.96106138 -5.48577463  2.2952458  -0.89165469 -1.14055673 -0.22245712\n",
      "  0.91547195  0.69431199 -3.01877204 -0.30457331 -1.48080612 -7.5917629\n",
      " -2.24426604 -0.44746262  3.79167443 -2.27936754 -1.68717614 -5.61574521\n",
      " -1.51294096 -0.10951387 -0.3242089   0.57525387  2.85493368  1.05253896\n",
      " -0.94290082 -3.6195829  -3.47641759 -0.85752022 -3.77172003  2.1325563\n",
      "  3.3877991   0.31619853 -3.70953642 -0.23676353 -0.59757815  0.25239635\n",
      " -0.40400655  2.66551244  0.18441373 -1.01573232  4.88572839 -6.38012822\n",
      " -3.11470564 -4.38482781  2.00455896  0.29845311  1.75252883 -3.62465262\n",
      "  0.11021333  7.17216019 -0.72522409  3.42635687  1.82217138 -1.33638543\n",
      " -5.20948325 -2.25422912 -4.26986402 -0.53529713  1.83260679  1.9253485\n",
      "  2.23623893  0.39318407 -2.25124956 -5.44679821]\n"
     ]
    },
    {
     "data": {
      "text/plain": [
       "<matplotlib.collections.PathCollection at 0x7f998d25a280>"
      ]
     },
     "execution_count": 20,
     "metadata": {},
     "output_type": "execute_result"
    },
    {
     "data": {
      "image/png": "[encoded data removed]",
      "text/plain": [
       "<Figure size 432x288 with 1 Axes>"
      ]
     },
     "metadata": {
      "needs_background": "light"
     },
     "output_type": "display_data"
    }
   ],
   "source": [
    "import numpy\n",
    "%matplotlib inline \n",
    "import matplotlib.pyplot as plt\n",
    "\n",
    "# cal the gaus\n",
    "x_gaus = numpy.random.normal(0,5, 100)\n",
    "e_gaus = numpy.random.normal(0,1, 100)\n",
    "\n",
    "y = .5*x_gaus + e_gaus\n",
    "    \n",
    "print(y)\n",
    "plt.title(\"Scatter plot using Gaussian Plot\")\n",
    "plt.xlabel(\"Gaussian of (0,5)\")\n",
    "plt.ylabel(\"y=.5*x+e\")\n",
    "plt.scatter(x_gaus, y)\n"
   ]
  },
  {
   "cell_type": "code",
   "execution_count": null,
   "metadata": {},
   "outputs": [],
   "source": []
  },
  {
   "cell_type": "code",
   "execution_count": null,
   "metadata": {},
   "outputs": [],
   "source": []
  }
 ],
 "metadata": {
  "kernelspec": {
   "display_name": "Python 3",
   "language": "python",
   "name": "python3"
  },
  "language_info": {
   "codemirror_mode": {
    "name": "ipython",
    "version": 3
   },
   "file_extension": ".py",
   "mimetype": "text/x-python",
   "name": "python",
   "nbconvert_exporter": "python",
   "pygments_lexer": "ipython3",
   "version": "3.8.2"
  }
 },
 "nbformat": 4,
 "nbformat_minor": 1
}
