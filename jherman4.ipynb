{
 "cells": [
  {
   "cell_type": "code",
   "execution_count": 1,
   "metadata": {},
   "outputs": [
    {
     "name": "stdout",
     "output_type": "stream",
     "text": [
      "IPython version:      %6.6s 6.1.0\n"
     ]
    }
   ],
   "source": [
    "import IPython\n",
    "import json\n",
    "# Numpy is a library for working with Arrays\n",
    "import numpy as np\n",
    "# SciPy implements many different numerical algorithms\n",
    "import scipy as sp\n",
    "# Pandas is good with data tables\n",
    "import pandas as pd\n",
    "# Module for plotting\n",
    "import matplotlib\n",
    "#BeautifulSoup parses HTML documents (once you get them via requests)\n",
    "import bs4\n",
    "# Nltk helps with some natural language tasks, like stemming\n",
    "import nltk\n",
    "# Bson is a binary format of json to be stored in databases\n",
    "import bson\n",
    "# Mongo is one of common nosql databases \n",
    "# it stores/searches json documents natively\n",
    "import pymongo\n",
    "print (\"IPython version:      %6.6s\", IPython.__version__)"
   ]
  },
  {
   "cell_type": "code",
   "execution_count": 2,
   "metadata": {},
   "outputs": [
    {
     "name": "stdout",
     "output_type": "stream",
     "text": [
      "Make a 2 row x 3 column array of random numbers\n",
      "[[ 0.20354485  0.87353642  0.79226415]\n",
      " [ 0.26457656  0.23486214  0.8240387 ]]\n",
      "Add 5 to every element\n",
      "[[ 5.20354485  5.87353642  5.79226415]\n",
      " [ 5.26457656  5.23486214  5.8240387 ]]\n",
      "Get the first row\n",
      "[ 5.20354485  5.87353642  5.79226415]\n"
     ]
    }
   ],
   "source": [
    "#Here is what numpy can do\\n\",\n",
    "print (\"Make a 2 row x 3 column array of random numbers\")\n",
    "x = np.random.random((2, 3))\n",
    "print (x)\n",
    "\n",
    "#array operation (as in R)\n",
    "print (\"Add 5 to every element\")\n",
    "x = x + 5\n",
    "print (x)\n",
    "\n",
    "# get a slice (first row) (as in R)\n",
    "print (\"Get the first row\")\n",
    "print (x[0, :])"
   ]
  },
  {
   "cell_type": "code",
   "execution_count": 3,
   "metadata": {},
   "outputs": [
    {
     "data": {
      "text/plain": [
       "<function ndarray.any>"
      ]
     },
     "execution_count": 3,
     "metadata": {},
     "output_type": "execute_result"
    }
   ],
   "source": [
    "# IPython is quite modern: just press <TAB> at the end of the unfinished statement to see the documentation\n",
    "#       on possible completions.\n",
    "#       In the code cell below, type x.<TAB>, to find built-in operations for x\n",
    "x.any"
   ]
  },
  {
   "cell_type": "code",
   "execution_count": 4,
   "metadata": {},
   "outputs": [
    {
     "data": {
      "image/png": "[encoded data removed]",
      "text/plain": [
       "<matplotlib.figure.Figure at 0x7f8a2433ca20>"
      ]
     },
     "metadata": {},
     "output_type": "display_data"
    }
   ],
   "source": [
    "%matplotlib inline \n",
    "import matplotlib.pyplot as plt\n",
    "heads = np.random.binomial(500, .5, size=500)\n",
    "histogram = plt.hist(heads, bins=10)"
   ]
  },
  {
   "cell_type": "markdown",
   "metadata": {
    "collapsed": true
   },
   "source": [
    "# Task 1\n",
    "## write a program to produce Fibonacci numbers up to 1000000"
   ]
  },
  {
   "cell_type": "code",
   "execution_count": 20,
   "metadata": {},
   "outputs": [
    {
     "name": "stdout",
     "output_type": "stream",
     "text": [
      "0\n",
      "1\n",
      "1\n",
      "2\n",
      "3\n",
      "5\n",
      "8\n",
      "13\n",
      "21\n",
      "34\n",
      "55\n",
      "89\n",
      "144\n",
      "233\n",
      "377\n",
      "610\n",
      "987\n",
      "1597\n",
      "2584\n",
      "4181\n",
      "6765\n",
      "10946\n",
      "17711\n",
      "28657\n",
      "46368\n",
      "75025\n",
      "121393\n",
      "196418\n",
      "317811\n",
      "514229\n",
      "832040\n"
     ]
    }
   ],
   "source": [
    "# function for calculating fibonnaci\n",
    "def fib_gen(num):\n",
    "    if num == 0:\n",
    "        return 0\n",
    "    if num == 1:\n",
    "        return 1\n",
    "    else:\n",
    "        return fib_gen(num-1) + fib_gen(num-2)\n",
    "\n",
    "index = 0\n",
    "cur_num = 0\n",
    "max_num = 1000000\n",
    "\n",
    "# continue while the value is less than the max given. Print out whatever fib_gen returns\n",
    "while True:\n",
    "    cur_num = fib_gen(index)\n",
    "    if cur_num >= max_num:\n",
    "        break\n",
    "    print(cur_num)\n",
    "    index += 1\n",
    "    "
   ]
  },
  {
   "cell_type": "markdown",
   "metadata": {},
   "source": [
    "# Task 2\n",
    "## write a program to simulate 1000 tosses of a fair coin (use np.random.binomial)\n",
    "## Calculate the mean and standard deviation of that sample"
   ]
  },
  {
   "cell_type": "code",
   "execution_count": 1,
   "metadata": {},
   "outputs": [
    {
     "name": "stdout",
     "output_type": "stream",
     "text": [
      "[1 0 1 1 1 1 1 0 1 1 0 0 0 0 1 0 0 1 0 0 0 1 1 1 0 1 0 1 1 0 1 0 1 1 0 0 0\n",
      " 0 0 1 0 0 1 0 1 1 0 1 1 0 0 0 0 1 0 1 0 0 0 0 0 1 1 0 1 0 1 0 1 1 1 0 0 1\n",
      " 0 0 0 0 1 1 0 0 1 1 1 1 0 0 0 0 1 1 0 1 0 1 1 0 1 1 0 0 1 0 1 1 1 0 1 1 1\n",
      " 0 0 1 0 0 0 0 1 1 0 1 1 1 1 0 0 0 1 1 1 1 0 0 1 1 1 0 0 1 0 0 1 1 0 1 0 0\n",
      " 1 1 0 1 0 0 0 0 0 1 1 0 1 0 1 0 0 0 1 1 0 1 1 0 1 0 0 0 1 0 0 0 0 1 0 0 1\n",
      " 0 1 0 0 0 0 1 1 1 1 0 1 1 0 1 1 0 0 1 0 0 0 0 0 1 0 0 1 1 1 1 1 0 0 1 0 1\n",
      " 1 1 1 1 1 1 0 0 0 0 1 1 1 1 0 1 1 0 0 0 1 0 0 1 0 1 1 1 0 1 1 0 0 1 0 1 0\n",
      " 0 0 0 0 0 1 0 0 0 1 1 0 1 0 0 1 0 1 0 1 1 1 0 0 0 1 1 1 1 1 1 0 1 0 1 1 1\n",
      " 0 0 1 1 0 1 0 1 0 0 0 0 0 0 0 0 0 0 0 0 0 1 0 1 0 0 0 1 1 1 0 0 0 1 0 1 1\n",
      " 1 0 1 0 0 1 1 0 0 1 1 1 0 0 1 1 0 1 0 1 0 0 1 0 0 0 1 1 0 0 1 1 0 0 1 1 1\n",
      " 1 1 0 1 1 0 0 1 0 1 1 1 1 1 0 1 1 1 1 0 0 1 0 1 1 1 0 1 0 0 1 1 1 1 1 1 0\n",
      " 1 1 0 0 0 1 1 1 1 0 0 1 0 1 1 1 0 1 1 1 1 1 0 0 1 1 1 0 0 0 1 0 0 1 1 0 0\n",
      " 0 1 1 1 1 0 1 1 0 1 1 1 1 0 1 1 1 1 0 0 1 1 1 1 0 1 1 0 1 1 1 1 1 0 0 0 0\n",
      " 1 1 1 1 1 0 0 1 0 0 1 0 1 0 1 1 0 1 1 1 1 0 0 1 1 0 0 0 1 0 1 0 0 1 0 1 1\n",
      " 1 0 0 1 1 0 0 1 0 1 1 0 0 1 0 1 0 1 0 0 1 1 0 0 0 0 0 1 0 1 1 1 0 0 1 1 0\n",
      " 1 1 1 1 1 1 0 1 0 1 0 0 1 1 0 0 0 0 0 1 1 1 0 1 0 1 1 1 1 0 1 1 0 0 0 0 0\n",
      " 1 1 1 0 1 1 0 1 1 0 1 1 1 1 0 1 1 0 0 1 0 1 0 1 0 1 1 1 1 0 0 0 1 1 0 0 1\n",
      " 0 1 1 0 0 1 1 1 1 1 1 1 1 1 1 0 1 1 1 0 1 1 1 1 1 0 0 0 0 1 0 0 0 0 1 1 1\n",
      " 1 0 0 1 0 1 1 1 1 1 1 0 0 0 0 1 0 0 0 0 0 0 0 0 1 0 0 1 1 1 1 1 0 0 1 0 1\n",
      " 1 0 1 0 0 1 0 0 1 1 0 0 1 1 1 0 0 0 0 0 0 0 1 0 1 0 0 1 0 0 1 1 0 1 1 0 0\n",
      " 0 1 0 0 1 1 1 1 1 1 1 1 0 0 1 1 0 0 0 1 1 0 0 0 0 0 0 1 0 0 1 0 1 1 1 1 0\n",
      " 0 0 0 0 1 1 0 0 0 1 0 0 1 0 0 1 1 1 0 1 0 0 0 0 1 0 1 0 0 0 0 1 0 0 1 0 1\n",
      " 1 1 1 1 0 1 1 0 0 0 1 0 1 0 1 1 1 1 0 0 1 1 0 0 1 1 0 0 1 0 0 0 0 1 1 0 1\n",
      " 1 0 0 1 0 0 0 0 1 0 0 1 1 0 0 1 1 1 0 1 0 0 0 1 1 0 0 1 0 0 0 1 0 1 0 1 0\n",
      " 1 1 0 1 1 0 0 1 0 0 1 1 1 1 0 0 0 0 1 1 1 1 0 0 0 0 0 0 0 0 1 1 1 0 0 1 0\n",
      " 1 1 1 1 0 1 0 1 1 0 1 1 1 0 0 1 1 1 1 1 0 1 0 1 1 1 1 0 0 1 0 0 1 1 0 0 0\n",
      " 0 0 1 1 0 0 0 1 0 1 1 0 1 1 1 1 1 0 0 0 1 0 1 1 1 1 0 1 0 1 1 1 0 0 0 0 1\n",
      " 1]\n",
      "Mean:  0.513\n",
      "SD:  0.49983097142934235\n"
     ]
    }
   ],
   "source": [
    "import numpy as np\n",
    "n = 1\n",
    "p = .5\n",
    "count = 1000\n",
    "\n",
    "# basically use numpy for everything, because why not\n",
    "tosses = np.random.binomial(n, p, count)\n",
    "print(tosses)\n",
    "print(\"Mean: \", np.mean(tosses))\n",
    "print(\"SD: \", np.std(tosses))"
   ]
  },
  {
   "cell_type": "markdown",
   "metadata": {},
   "source": [
    "# Task 3\n",
    "## Produce a scatterplot of y = 0.5*x+e where x has gaussian (0, 5) and e has gaussian (0, 1) distributions \n",
    "### use numpy.random.normal to generate gaussian distribution"
   ]
  },
  {
   "cell_type": "code",
   "execution_count": 15,
   "metadata": {},
   "outputs": [
    {
     "name": "stdout",
     "output_type": "stream",
     "text": [
      "[-0.69646482  1.41789421  3.27708578 -2.60672487  0.51066562 -0.02869093\n",
      " -0.59941504 -3.44094127  5.67257189  0.04103171 -0.02000192  1.50424851\n",
      " -2.51619867 -0.93017844 -1.8578096   2.72517699  1.07289046  0.60266237\n",
      " -5.39768191  0.07751138 -0.19217272 -2.19889505 -4.45574376 -0.9849433\n",
      " -4.36699612  2.93380386  1.16368242 -1.91876069 -0.21148471 -2.55829671\n",
      "  3.03307791 -0.05726263 -0.92417531  1.68187535  4.33670876  0.3959436\n",
      "  0.8874912   1.1267121   1.63694996  1.76420799  1.31088613  1.73639722\n",
      "  0.52121749  0.21971698 -0.04393869 -2.73104138  1.01252225 -1.23260022\n",
      " -1.95831843  5.85284443  1.86666257 -1.0316779   2.17802823 -3.44464989\n",
      "  1.74113639 -2.6456825  -0.60139776 -2.51130348 -0.11883762  0.79573316\n",
      "  2.93671925  0.21086103  1.12832232 -0.62818519 -1.57859467 -2.84757589\n",
      " -0.03135762  1.19941388  0.79221237 -2.83794088  2.58701086 -1.51449971\n",
      "  1.25150843 -2.15082006 -3.63039982 -1.84198803  4.0707224   1.96929876\n",
      "  1.18891213 -0.32375745 -0.68527775  1.17444995 -1.33178517  0.5168489\n",
      "  0.68903926  0.27515061  0.11535063 -0.86008036 -3.47473754  6.12094416\n",
      " -4.05507796 -0.17391286  1.77066588 -5.29694655 -1.58855688  1.12479223\n",
      "  0.85761391 -1.27038887  3.57566557  0.83802429]\n"
     ]
    },
    {
     "data": {
      "text/plain": [
       "<matplotlib.collections.PathCollection at 0x7f998d363070>"
      ]
     },
     "execution_count": 15,
     "metadata": {},
     "output_type": "execute_result"
    },
    {
     "data": {
      "image/png": "[encoded data removed]",
      "text/plain": [
       "<Figure size 432x288 with 1 Axes>"
      ]
     },
     "metadata": {
      "needs_background": "light"
     },
     "output_type": "display_data"
    }
   ],
   "source": [
    "import numpy\n",
    "%matplotlib inline \n",
    "import matplotlib.pyplot as plt\n",
    "\n",
    "# cal the gaus\n",
    "x_gaus = numpy.random.normal(0,5, 100)\n",
    "e_gaus = numpy.random.normal(0,1, 100)\n",
    "\n",
    "y = .5*x_gaus + e_gaus\n",
    "    \n",
    "print(y)\n",
    "plt.scatter(x_gaus, y)\n"
   ]
  },
  {
   "cell_type": "code",
   "execution_count": null,
   "metadata": {},
   "outputs": [],
   "source": []
  },
  {
   "cell_type": "code",
   "execution_count": null,
   "metadata": {},
   "outputs": [],
   "source": []
  }
 ],
 "metadata": {
  "kernelspec": {
   "display_name": "Python 3",
   "language": "python",
   "name": "python3"
  },
  "language_info": {
   "codemirror_mode": {
    "name": "ipython",
    "version": 3
   },
   "file_extension": ".py",
   "mimetype": "text/x-python",
   "name": "python",
   "nbconvert_exporter": "python",
   "pygments_lexer": "ipython3",
   "version": "3.8.2"
  }
 },
 "nbformat": 4,
 "nbformat_minor": 1
}
